{
 "cells": [
  {
   "cell_type": "markdown",
   "metadata": {
    "heading_collapsed": true
   },
   "source": [
    "# Instructions\n",
    "\n",
    "- Update configs values (section 2 below)\n",
    "- Run all cells (Use topnav: `Cell`>`Run all`)\n",
    "- Entity updates in the divergent blocks will be saved to a .csv in the output directory"
   ]
  },
  {
   "cell_type": "markdown",
   "metadata": {
    "ExecuteTime": {
     "start_time": "2021-06-11T20:36:22.099Z"
    }
   },
   "source": [
    "# Configs"
   ]
  },
  {
   "cell_type": "code",
   "execution_count": null,
   "metadata": {
    "ExecuteTime": {
     "end_time": "2021-06-14T22:05:22.628741Z",
     "start_time": "2021-06-14T22:05:22.623957Z"
    }
   },
   "outputs": [],
   "source": [
    "# Investigation config\n",
    "indexer_name = '<MY_INDEXER_NAME>'\n",
    "subgraph_name = '<SUBGRAPH_NAME>'\n",
    "subgraph_id = '<DEPLOYMENT_ID>'\n",
    "chain_name = 'mainnet'\n",
    "divergent_blocks = [<BLOCK_1>, <BLOCK_2>, ...]\n",
    "output_dir = '../outputs/'"
   ]
  },
  {
   "cell_type": "code",
   "execution_count": 2,
   "metadata": {
    "ExecuteTime": {
     "end_time": "2021-06-14T22:05:22.738102Z",
     "start_time": "2021-06-14T22:05:22.735748Z"
    }
   },
   "outputs": [],
   "source": [
    "# Create connection to local indexer DB\n",
    "POSTGRES_ADDRESS = 'localhost'\n",
    "POSTGRES_PORT = '5432'\n",
    "POSTGRES_USERNAME = '<USERNAME>' \n",
    "POSTGRES_PASSWORD = '<PASSWORD>' \n",
    "POSTGRES_DBNAME = '<DB>' "
   ]
  },
  {
   "cell_type": "markdown",
   "metadata": {
    "ExecuteTime": {
     "start_time": "2021-06-11T20:37:20.425Z"
    },
    "heading_collapsed": true
   },
   "source": [
    "# Setup"
   ]
  },
  {
   "cell_type": "code",
   "execution_count": 3,
   "metadata": {
    "ExecuteTime": {
     "end_time": "2021-06-14T22:05:23.192766Z",
     "start_time": "2021-06-14T22:05:22.739474Z"
    },
    "hidden": true
   },
   "outputs": [
    {
     "data": {
      "text/html": [
       "<style>.container { width:100% !important; }</style>"
      ],
      "text/plain": [
       "<IPython.core.display.HTML object>"
      ]
     },
     "metadata": {},
     "output_type": "display_data"
    }
   ],
   "source": [
    "%load_ext autoreload\n",
    "%autoreload 2\n",
    "%matplotlib inline\n",
    "from IPython.core.display import display, HTML\n",
    "display(HTML(\"<style>.container { width:100% !important; }</style>\"))"
   ]
  },
  {
   "cell_type": "code",
   "execution_count": 4,
   "metadata": {
    "ExecuteTime": {
     "end_time": "2021-06-14T22:05:23.545348Z",
     "start_time": "2021-06-14T22:05:23.194221Z"
    },
    "hidden": true
   },
   "outputs": [],
   "source": [
    "# Import data processing and visualization libs\n",
    "import numpy as np\n",
    "import pandas as pd\n",
    "from sqlalchemy import create_engine"
   ]
  },
  {
   "cell_type": "code",
   "execution_count": 5,
   "metadata": {
    "ExecuteTime": {
     "end_time": "2021-06-14T22:05:23.611069Z",
     "start_time": "2021-06-14T22:05:23.546694Z"
    },
    "hidden": true
   },
   "outputs": [],
   "source": [
    "# Create connection to local indexer DB\n",
    "postgres_str = ('postgresql://{username}:{password}@{ipaddress}:{port}/{dbname}'.format(username=POSTGRES_USERNAME,\n",
    "    password=POSTGRES_PASSWORD,\n",
    "    ipaddress=POSTGRES_ADDRESS,\n",
    "    port=POSTGRES_PORT,\n",
    "    dbname=POSTGRES_DBNAME)\n",
    ")\n",
    "\n",
    "indexer_local_db_cnx = create_engine(postgres_str)"
   ]
  },
  {
   "cell_type": "markdown",
   "metadata": {},
   "source": [
    "# Fetch entity updates"
   ]
  },
  {
   "cell_type": "markdown",
   "metadata": {},
   "source": [
    "## Setup Fetch Functions"
   ]
  },
  {
   "cell_type": "code",
   "execution_count": 6,
   "metadata": {
    "ExecuteTime": {
     "end_time": "2021-06-14T22:05:23.642434Z",
     "start_time": "2021-06-14T22:05:23.612671Z"
    }
   },
   "outputs": [],
   "source": [
    "def fetch_entity_updates_in_block(indexer, db_cnx, divergent_block, deployment_id):\n",
    "    schema = pd.read_sql(sql='SELECT name FROM public.deployment_schemas WHERE subgraph = \\'%s\\''%deployment_id, con=db_cnx)\n",
    "    schema_name = schema.iat[0,0]\n",
    "\n",
    "    entity_tables_query = \"SELECT table_name FROM information_schema.tables WHERE table_schema = \\'%s\\'\"%schema_name\n",
    "\n",
    "    entity_tables = pd.read_sql(sql=entity_tables_query, con=db_cnx)\n",
    "    entity_tables = entity_tables[entity_tables['table_name'] != 'poi2$']['table_name']\n",
    "\n",
    "    entity_names = []\n",
    "    entity_changes = []\n",
    "    divergent_blocks = []\n",
    "    indexers = []\n",
    "    subgraph_ids = []\n",
    "    for table in entity_tables:\n",
    "        changes_in_divergent_block = pd.read_sql(sql=\"SELECT * FROM %s.%s where lower(block_range)=%s\"%(schema_name, table, divergent_block), con=db_cnx)\n",
    "        if len(changes_in_divergent_block) > 0:\n",
    "            entity_names.append(table)\n",
    "            entity_changes.append(changes_in_divergent_block.to_dict(orient='records'))\n",
    "            divergent_blocks.append(divergent_block)\n",
    "            indexers.append(indexer)\n",
    "            subgraph_ids.append(subgraph_id)\n",
    "    entity_changes_divergent_block = pd.DataFrame(list(zip(entity_names, entity_changes, divergent_blocks, indexers)),columns =['Entity', 'Updates', 'Block', 'Indexer'])\n",
    "    return entity_changes_divergent_block\n",
    "\n",
    "def fetch_entity_updates_for_blocks(indexer, db_cnx, divergent_blocks, deployment_id):\n",
    "    frames = []\n",
    "    for block in divergent_blocks:\n",
    "        changes = fetch_entity_updates_in_block(indexer, db_cnx, block, deployment_id)\n",
    "        frames.append(changes)\n",
    "    combined_df = pd.concat(frames, sort=False)\n",
    "    return combined_df\n",
    "\n",
    "def fetch_eth_call_cached_results_for_blocks(indexer, db_cnx, divergent_blocks, chain, deployment_id):\n",
    "    schema = pd.read_sql(sql='SELECT namespace FROM public.chains WHERE name = \\'%s\\''%chain, con=db_cnx)\n",
    "    schema_name = schema.iat[0,0]\n",
    "    \n",
    "    call_cache_query = \"SELECT id, return_value, contract_address, block_number FROM {schema_name}.call_cache WHERE block_number in {blocks}\".format(schema_name=schema_name, blocks=divergent_blocks)\n",
    "    call_cache_query = call_cache_query.replace('[', '(')\n",
    "    call_cache_query = call_cache_query.replace(']', ')')\n",
    "    \n",
    "    call_cache_for_divergent_blocks = pd.read_sql(sql=call_cache_query, con=db_cnx)\n",
    "    call_cache_for_divergent_blocks['indexer'] = indexer\n",
    "    return call_cache_for_divergent_blocks"
   ]
  },
  {
   "cell_type": "markdown",
   "metadata": {},
   "source": [
    "## Fetch entity updates from local indexer"
   ]
  },
  {
   "cell_type": "code",
   "execution_count": 7,
   "metadata": {
    "ExecuteTime": {
     "end_time": "2021-06-14T22:05:23.807607Z",
     "start_time": "2021-06-14T22:05:23.643678Z"
    }
   },
   "outputs": [
    {
     "ename": "NameError",
     "evalue": "name 'indexer_name' is not defined",
     "output_type": "error",
     "traceback": [
      "\u001b[0;31m---------------------------------------------------------------------------\u001b[0m",
      "\u001b[0;31mNameError\u001b[0m                                 Traceback (most recent call last)",
      "\u001b[0;32m<ipython-input-7-05bcc5ac4aa6>\u001b[0m in \u001b[0;36m<module>\u001b[0;34m\u001b[0m\n\u001b[0;32m----> 1\u001b[0;31m \u001b[0mlocal_diverge_changes\u001b[0m \u001b[0;34m=\u001b[0m \u001b[0mfetch_entity_updates_for_blocks\u001b[0m\u001b[0;34m(\u001b[0m\u001b[0mindexer_name\u001b[0m\u001b[0;34m,\u001b[0m \u001b[0mindexer_local_db_cnx\u001b[0m\u001b[0;34m,\u001b[0m \u001b[0mdivergent_blocks\u001b[0m\u001b[0;34m,\u001b[0m \u001b[0msubgraph_id\u001b[0m\u001b[0;34m)\u001b[0m\u001b[0;34m\u001b[0m\u001b[0;34m\u001b[0m\u001b[0m\n\u001b[0m\u001b[1;32m      2\u001b[0m \u001b[0mlocal_diverge_call_cache\u001b[0m \u001b[0;34m=\u001b[0m \u001b[0mfetch_eth_call_cached_results_for_blocks\u001b[0m\u001b[0;34m(\u001b[0m\u001b[0mindexer_name\u001b[0m\u001b[0;34m,\u001b[0m \u001b[0mindexer_local_db_cnx\u001b[0m\u001b[0;34m,\u001b[0m \u001b[0mdivergent_blocks\u001b[0m\u001b[0;34m,\u001b[0m \u001b[0mchain_name\u001b[0m\u001b[0;34m,\u001b[0m \u001b[0msubgraph_id\u001b[0m\u001b[0;34m)\u001b[0m\u001b[0;34m\u001b[0m\u001b[0;34m\u001b[0m\u001b[0m\n",
      "\u001b[0;31mNameError\u001b[0m: name 'indexer_name' is not defined"
     ]
    }
   ],
   "source": [
    "local_diverge_changes = fetch_entity_updates_for_blocks(indexer_name, indexer_local_db_cnx, divergent_blocks, subgraph_id)\n",
    "local_diverge_call_cache = fetch_eth_call_cached_results_for_blocks(indexer_name, indexer_local_db_cnx, divergent_blocks, chain_name, subgraph_id)"
   ]
  },
  {
   "cell_type": "code",
   "execution_count": null,
   "metadata": {
    "ExecuteTime": {
     "end_time": "2021-06-14T22:05:23.809106Z",
     "start_time": "2021-06-14T22:05:22.639Z"
    }
   },
   "outputs": [],
   "source": [
    "local_diverge_changes"
   ]
  },
  {
   "cell_type": "code",
   "execution_count": null,
   "metadata": {
    "ExecuteTime": {
     "end_time": "2021-06-14T22:05:23.810146Z",
     "start_time": "2021-06-14T22:05:22.641Z"
    }
   },
   "outputs": [],
   "source": [
    "local_diverge_call_cache"
   ]
  },
  {
   "cell_type": "code",
   "execution_count": null,
   "metadata": {
    "ExecuteTime": {
     "end_time": "2021-06-14T22:05:23.811079Z",
     "start_time": "2021-06-14T22:05:22.643Z"
    }
   },
   "outputs": [],
   "source": [
    "# Save entity updates to a local csv\n",
    "local_diverge_changes.to_csv(output_dir + subgraph_name + '_' + indexer_name + '_entity_updates_in_divergent_blocks.csv')"
   ]
  },
  {
   "cell_type": "markdown",
   "metadata": {},
   "source": [
    "## Compare between two indexers"
   ]
  },
  {
   "cell_type": "code",
   "execution_count": null,
   "metadata": {
    "ExecuteTime": {
     "end_time": "2021-06-14T22:05:23.812141Z",
     "start_time": "2021-06-14T22:05:22.645Z"
    }
   },
   "outputs": [],
   "source": [
    "# Example of comparing two sets of entity updates (in this case it )\n",
    "local_diverge_changes2 = fetch_entity_updates_for_blocks(indexer_name, indexer_local_db_cnx, divergent_blocks, subgraph_id)\n",
    "diffs = local_diverge_changes.compare(local_diverge_changes2)\n",
    "len(diffs)"
   ]
  }
 ],
 "metadata": {
  "hide_input": false,
  "kernelspec": {
   "display_name": "Python 3",
   "language": "python",
   "name": "python3"
  },
  "language_info": {
   "codemirror_mode": {
    "name": "ipython",
    "version": 3
   },
   "file_extension": ".py",
   "mimetype": "text/x-python",
   "name": "python",
   "nbconvert_exporter": "python",
   "pygments_lexer": "ipython3",
   "version": "3.8.5"
  },
  "toc": {
   "base_numbering": 1,
   "nav_menu": {},
   "number_sections": true,
   "sideBar": true,
   "skip_h1_title": false,
   "title_cell": "Table of Contents",
   "title_sidebar": "Contents",
   "toc_cell": false,
   "toc_position": {},
   "toc_section_display": true,
   "toc_window_display": false
  }
 },
 "nbformat": 4,
 "nbformat_minor": 4
}
